{
  "nbformat": 4,
  "nbformat_minor": 0,
  "metadata": {
    "colab": {
      "provenance": [],
      "authorship_tag": "ABX9TyOPbpAxXdFobCBXQddQVdBe",
      "include_colab_link": true
    },
    "kernelspec": {
      "name": "python3",
      "display_name": "Python 3"
    },
    "language_info": {
      "name": "python"
    }
  },
  "cells": [
    {
      "cell_type": "markdown",
      "metadata": {
        "id": "view-in-github",
        "colab_type": "text"
      },
      "source": [
        "<a href=\"https://colab.research.google.com/github/Rudr16a/FastAPI/blob/main/FastAPI.ipynb\" target=\"_parent\"><img src=\"https://colab.research.google.com/assets/colab-badge.svg\" alt=\"Open In Colab\"/></a>"
      ]
    },
    {
      "cell_type": "code",
      "source": [
        "from fastapi import FastAPI\n",
        "from pydantic import BaseModel\n",
        "from typing import Optional"
      ],
      "metadata": {
        "id": "Hk8ugxd6LDLg"
      },
      "execution_count": 11,
      "outputs": []
    },
    {
      "cell_type": "code",
      "source": [
        "app = FastAPI()\n",
        "\n"
      ],
      "metadata": {
        "id": "asMrliwQO6Dx"
      },
      "execution_count": 16,
      "outputs": []
    },
    {
      "cell_type": "code",
      "source": [
        "fakedb =[]\n",
        "\n",
        "class Course(BaseModel):\n",
        "    id: int\n",
        "    title: str\n",
        "    price: float\n",
        "    is_early_bird: bool\n",
        "    description: Optional[str] = None\n"
      ],
      "metadata": {
        "id": "a3THj5QcPsZF"
      },
      "execution_count": 21,
      "outputs": []
    },
    {
      "cell_type": "code",
      "source": [
        "@app.get(\"/\")\n",
        "def read_root():\n",
        "    return {\"Hello\": \"World\"}"
      ],
      "metadata": {
        "id": "vSoUWLTOPHna"
      },
      "execution_count": 17,
      "outputs": []
    },
    {
      "cell_type": "code",
      "source": [
        "@app.get(\"/Courses\")\n",
        "def get_courses():\n",
        "    return fakedb\n"
      ],
      "metadata": {
        "id": "j7YRrIZIQ46Z"
      },
      "execution_count": 22,
      "outputs": []
    },
    {
      "cell_type": "code",
      "source": [
        "@app.get(\"/Courses/{course_id}\")\n",
        "def get_course(course_id: int):\n",
        "  course= course_id-1\n",
        "  return fakedb[course]\n",
        "\n",
        "\n"
      ],
      "metadata": {
        "id": "0Hla_ukrRDRO"
      },
      "execution_count": 23,
      "outputs": []
    },
    {
      "cell_type": "code",
      "source": [
        "@app.post(\"/Courses\")\n",
        "def create_course(course: Course):\n",
        "    fakedb.append(course.dict())\n",
        "    return fakedb[-1]"
      ],
      "metadata": {
        "id": "KlhY6jA8Rlui"
      },
      "execution_count": 25,
      "outputs": []
    },
    {
      "cell_type": "code",
      "source": [
        "@app.delete(\"/Courses/{course_id}\")\n",
        "def delete_course(course_id: int):\n",
        "    del fakedb[course_id-1]\n",
        "    return \"deleted\""
      ],
      "metadata": {
        "id": "yMb0An67R9Lu"
      },
      "execution_count": 26,
      "outputs": []
    },
    {
      "cell_type": "code",
      "source": [
        "@app.put(\"/Courses/{course_id}\")\n",
        "def update_course(course_id: int, course: Course):\n",
        "    fakedb[course_id-1]= course.dict()\n",
        "    return fakedb[course_id-1]"
      ],
      "metadata": {
        "id": "1t0J4thcRroY"
      },
      "execution_count": 27,
      "outputs": []
    },
    {
      "cell_type": "code",
      "source": [],
      "metadata": {
        "id": "vEQawALhUJFc"
      },
      "execution_count": null,
      "outputs": []
    }
  ]
}